{
 "cells": [
  {
   "cell_type": "code",
   "execution_count": 2,
   "id": "193dd9aa",
   "metadata": {},
   "outputs": [],
   "source": [
    "import numpy as np\n",
    "from modules.executor import Executor\n",
    "from modules.feature import FeatureExtractor\n",
    "from modules.algorithms.naive_bayes import NaiveBayes\n",
    "from sklearn.svm import SVC\n",
    "from sklearn.neural_network import MLPClassifier\n",
    "import copy"
   ]
  },
  {
   "cell_type": "markdown",
   "id": "5d1217a4",
   "metadata": {},
   "source": [
    "## 1. Using Naive Bayes Implementation"
   ]
  },
  {
   "cell_type": "code",
   "execution_count": 5,
   "id": "d285d5ae",
   "metadata": {},
   "outputs": [
    {
     "name": "stdout",
     "output_type": "stream",
     "text": [
      "X Shape: (45, 168), Y Shape: (45,)\n"
     ]
    },
    {
     "ename": "IndexError",
     "evalue": "index 101 is out of bounds for axis 1 with size 101",
     "output_type": "error",
     "traceback": [
      "\u001b[1;31m---------------------------------------------------------------------------\u001b[0m",
      "\u001b[1;31mIndexError\u001b[0m                                Traceback (most recent call last)",
      "Cell \u001b[1;32mIn [5], line 3\u001b[0m\n\u001b[0;32m      1\u001b[0m featEx \u001b[38;5;241m=\u001b[39m FeatureExtractor(grid_shape \u001b[38;5;241m=\u001b[39m (\u001b[38;5;241m5\u001b[39m,\u001b[38;5;241m5\u001b[39m), round_off \u001b[38;5;241m=\u001b[39m \u001b[38;5;241m1\u001b[39m)\n\u001b[0;32m      2\u001b[0m nb \u001b[38;5;241m=\u001b[39m NaiveBayes(k \u001b[38;5;241m=\u001b[39m \u001b[38;5;241m0.1\u001b[39m)\n\u001b[1;32m----> 3\u001b[0m execute \u001b[38;5;241m=\u001b[39m \u001b[43mExecutor\u001b[49m\u001b[43m(\u001b[49m\u001b[43mdata_source\u001b[49m\u001b[43m \u001b[49m\u001b[38;5;241;43m=\u001b[39;49m\u001b[43m \u001b[49m\u001b[38;5;124;43m'\u001b[39;49m\u001b[38;5;124;43mfacedata\u001b[39;49m\u001b[38;5;124;43m'\u001b[39;49m\u001b[43m,\u001b[49m\u001b[43m \u001b[49m\u001b[43mfeatureExtractor\u001b[49m\u001b[38;5;241;43m=\u001b[39;49m\u001b[43mfeatEx\u001b[49m\u001b[43m,\u001b[49m\u001b[43m \u001b[49m\u001b[43malgorithm\u001b[49m\u001b[38;5;241;43m=\u001b[39;49m\u001b[43mnb\u001b[49m\u001b[43m,\u001b[49m\u001b[43m \u001b[49m\u001b[43mmetric\u001b[49m\u001b[43m \u001b[49m\u001b[38;5;241;43m=\u001b[39;49m\u001b[43m \u001b[49m\u001b[38;5;124;43m'\u001b[39;49m\u001b[38;5;124;43macc\u001b[39;49m\u001b[38;5;124;43m'\u001b[39;49m\u001b[43m,\u001b[49m\u001b[43m \u001b[49m\u001b[43mquick\u001b[49m\u001b[38;5;241;43m=\u001b[39;49m\u001b[38;5;28;43;01mFalse\u001b[39;49;00m\u001b[43m)\u001b[49m\n",
      "File \u001b[1;32m~\\OneDrive\\Desktop\\Projects\\ImageClassification\\modules\\executor.py:23\u001b[0m, in \u001b[0;36mExecutor.__init__\u001b[1;34m(self, data_source, featureExtractor, algorithm, metric, quick)\u001b[0m\n\u001b[0;32m     20\u001b[0m \u001b[38;5;28mself\u001b[39m\u001b[38;5;241m.\u001b[39mquick \u001b[38;5;241m=\u001b[39m quick\n\u001b[0;32m     22\u001b[0m \u001b[38;5;28mself\u001b[39m\u001b[38;5;241m.\u001b[39mprepareData()\n\u001b[1;32m---> 23\u001b[0m \u001b[38;5;28;43mself\u001b[39;49m\u001b[38;5;241;43m.\u001b[39;49m\u001b[43mexecute\u001b[49m\u001b[43m(\u001b[49m\u001b[43m)\u001b[49m\n",
      "File \u001b[1;32m~\\OneDrive\\Desktop\\Projects\\ImageClassification\\modules\\executor.py:144\u001b[0m, in \u001b[0;36mExecutor.execute\u001b[1;34m(self)\u001b[0m\n\u001b[0;32m    140\u001b[0m \u001b[38;5;28mprint\u001b[39m(\u001b[38;5;124mf\u001b[39m\u001b[38;5;124m'\u001b[39m\u001b[38;5;124mX Shape: \u001b[39m\u001b[38;5;132;01m{\u001b[39;00mX\u001b[38;5;241m.\u001b[39mshape\u001b[38;5;132;01m}\u001b[39;00m\u001b[38;5;124m, Y Shape: \u001b[39m\u001b[38;5;132;01m{\u001b[39;00mY\u001b[38;5;241m.\u001b[39mshape\u001b[38;5;132;01m}\u001b[39;00m\u001b[38;5;124m'\u001b[39m)\n\u001b[0;32m    142\u001b[0m \u001b[38;5;28mself\u001b[39m\u001b[38;5;241m.\u001b[39malgorithm\u001b[38;5;241m.\u001b[39mfit(X, Y)\n\u001b[1;32m--> 144\u001b[0m train_met\u001b[38;5;241m.\u001b[39mappend(\u001b[43mExecutor\u001b[49m\u001b[38;5;241;43m.\u001b[39;49m\u001b[43mcalculate_metric\u001b[49m\u001b[43m(\u001b[49m\u001b[38;5;28;43mself\u001b[39;49m\u001b[38;5;241;43m.\u001b[39;49m\u001b[43malgorithm\u001b[49m\u001b[43m,\u001b[49m\u001b[43m \u001b[49m\u001b[43mX\u001b[49m\u001b[43m,\u001b[49m\u001b[43m \u001b[49m\u001b[43mY\u001b[49m\u001b[43m,\u001b[49m\u001b[43m \u001b[49m\u001b[38;5;28;43mself\u001b[39;49m\u001b[38;5;241;43m.\u001b[39;49m\u001b[43mmetric\u001b[49m\u001b[43m)\u001b[49m)\n\u001b[0;32m    145\u001b[0m val_met\u001b[38;5;241m.\u001b[39mappend(Executor\u001b[38;5;241m.\u001b[39mcalculate_metric(\u001b[38;5;28mself\u001b[39m\u001b[38;5;241m.\u001b[39malgorithm, \u001b[38;5;28mself\u001b[39m\u001b[38;5;241m.\u001b[39mX_val, \u001b[38;5;28mself\u001b[39m\u001b[38;5;241m.\u001b[39mY_val, \u001b[38;5;28mself\u001b[39m\u001b[38;5;241m.\u001b[39mmetric))\n\u001b[0;32m    146\u001b[0m test_met\u001b[38;5;241m.\u001b[39mappend(Executor\u001b[38;5;241m.\u001b[39mcalculate_metric(\u001b[38;5;28mself\u001b[39m\u001b[38;5;241m.\u001b[39m algorithm, \u001b[38;5;28mself\u001b[39m\u001b[38;5;241m.\u001b[39mX_test, \u001b[38;5;28mself\u001b[39m\u001b[38;5;241m.\u001b[39mY_test, \u001b[38;5;28mself\u001b[39m\u001b[38;5;241m.\u001b[39mmetric))\n",
      "File \u001b[1;32m~\\OneDrive\\Desktop\\Projects\\ImageClassification\\modules\\executor.py:165\u001b[0m, in \u001b[0;36mExecutor.calculate_metric\u001b[1;34m(algorithm, X, Y_true, metric)\u001b[0m\n\u001b[0;32m    162\u001b[0m \u001b[38;5;129m@staticmethod\u001b[39m\n\u001b[0;32m    163\u001b[0m \u001b[38;5;28;01mdef\u001b[39;00m \u001b[38;5;21mcalculate_metric\u001b[39m(algorithm, X, Y_true, metric \u001b[38;5;241m=\u001b[39m \u001b[38;5;124m'\u001b[39m\u001b[38;5;124macc\u001b[39m\u001b[38;5;124m'\u001b[39m):\n\u001b[1;32m--> 165\u001b[0m     Y_pred \u001b[38;5;241m=\u001b[39m \u001b[43malgorithm\u001b[49m\u001b[38;5;241;43m.\u001b[39;49m\u001b[43mpredict\u001b[49m\u001b[43m(\u001b[49m\u001b[43mX\u001b[49m\u001b[43m)\u001b[49m\n\u001b[0;32m    167\u001b[0m     acc \u001b[38;5;241m=\u001b[39m np\u001b[38;5;241m.\u001b[39msum(Y_pred \u001b[38;5;241m==\u001b[39m Y_true)\u001b[38;5;241m/\u001b[39m\u001b[38;5;28mlen\u001b[39m(Y_pred)\n\u001b[0;32m    169\u001b[0m     \u001b[38;5;28;01mif\u001b[39;00m metric \u001b[38;5;241m==\u001b[39m \u001b[38;5;124m'\u001b[39m\u001b[38;5;124macc\u001b[39m\u001b[38;5;124m'\u001b[39m:\n",
      "File \u001b[1;32m~\\OneDrive\\Desktop\\Projects\\ImageClassification\\modules\\algorithms\\naive_bayes.py:64\u001b[0m, in \u001b[0;36mNaiveBayes.predict\u001b[1;34m(self, X_pred)\u001b[0m\n\u001b[0;32m     61\u001b[0m     likelihood_sum \u001b[38;5;241m=\u001b[39m \u001b[38;5;241m0\u001b[39m\n\u001b[0;32m     62\u001b[0m     \u001b[38;5;28;01mfor\u001b[39;00m feature, feature_val \u001b[38;5;129;01min\u001b[39;00m \u001b[38;5;28menumerate\u001b[39m(x_i):\n\u001b[1;32m---> 64\u001b[0m         likelihood_sum \u001b[38;5;241m+\u001b[39m\u001b[38;5;241m=\u001b[39m np\u001b[38;5;241m.\u001b[39mlog(\u001b[38;5;28;43mself\u001b[39;49m\u001b[38;5;241;43m.\u001b[39;49m\u001b[43mlikelihoods\u001b[49m\u001b[43m[\u001b[49m\u001b[43mi\u001b[49m\u001b[43m,\u001b[49m\u001b[43m \u001b[49m\u001b[43mfeature\u001b[49m\u001b[43m,\u001b[49m\u001b[43m \u001b[49m\u001b[38;5;28;43mint\u001b[39;49m\u001b[43m(\u001b[49m\u001b[43mfeature_val\u001b[49m\u001b[38;5;241;43m*\u001b[39;49m\u001b[38;5;241;43m100\u001b[39;49m\u001b[43m)\u001b[49m\u001b[43m]\u001b[49m)\n\u001b[0;32m     66\u001b[0m     probs\u001b[38;5;241m.\u001b[39mappend(np\u001b[38;5;241m.\u001b[39mlog(y_prob) \u001b[38;5;241m+\u001b[39m likelihood_sum)\n\u001b[0;32m     68\u001b[0m y_hat\u001b[38;5;241m.\u001b[39mappend(np\u001b[38;5;241m.\u001b[39margmax(probs))\n",
      "\u001b[1;31mIndexError\u001b[0m: index 101 is out of bounds for axis 1 with size 101"
     ]
    }
   ],
   "source": [
    "featEx = FeatureExtractor(grid_shape = (5,5), round_off = 1)\n",
    "nb = NaiveBayes(k = 0.1)\n",
    "execute = Executor(data_source = 'facedata', featureExtractor=featEx, algorithm=nb, metric = 'acc', quick=False)"
   ]
  },
  {
   "cell_type": "code",
   "execution_count": 4,
   "id": "c909cc33",
   "metadata": {},
   "outputs": [
    {
     "name": "stdout",
     "output_type": "stream",
     "text": [
      "[0.6666666666666666, 0.5333333333333333, 0.5333333333333333, 0.5777777777777777, 0.4888888888888888, 0.5666666666666667, 0.49523809523809526, 0.5222222222222223, 0.49876543209876545, 0.5144124168514412]\n",
      "[0.5282392026578073, 0.49833887043189373, 0.5182724252491694, 0.5182724252491694, 0.5149501661129569, 0.5016611295681063, 0.5182724252491694, 0.5182724252491694, 0.5116279069767442, 0.5149501661129569]\n",
      "[0.54, 0.5, 0.52, 0.5133333333333333, 0.5066666666666667, 0.5, 0.5133333333333333, 0.5133333333333333, 0.5, 0.49333333333333335]\n"
     ]
    }
   ],
   "source": [
    "print(execute.train_mean_met)\n",
    "print(execute.val_mean_met)\n",
    "print(execute.test_mean_met)"
   ]
  },
  {
   "cell_type": "code",
   "execution_count": null,
   "id": "ea843cef",
   "metadata": {},
   "outputs": [],
   "source": [
    "np.round(0.001, 0)"
   ]
  },
  {
   "cell_type": "code",
   "execution_count": null,
   "id": "e3eedd23",
   "metadata": {},
   "outputs": [],
   "source": [
    "featEx = FeatureExtractor(grid_shape = (4,4), round_off = 2)\n",
    "\n",
    "for k in [0.0001, 0.001, 0.005, 0.01, 0.05, 0.1, 1, 2]:\n",
    "    nb = NaiveBayes(k)\n",
    "    execute = Executor(data_source = 'digitdata', featureExtractor=featEx, algorithm=nb, metric = 'acc', quick=True)\n",
    "    print(execute.test_mean_met)"
   ]
  },
  {
   "cell_type": "markdown",
   "id": "98ec1b54",
   "metadata": {},
   "source": [
    "###### print(execute.train_mean_met)\n",
    "print(execute.val_mean_met)\n",
    "print(execute.test_mean_met)"
   ]
  },
  {
   "cell_type": "code",
   "execution_count": null,
   "id": "8cde1e39",
   "metadata": {},
   "outputs": [],
   "source": [
    "nb.predict(execute.X_val)"
   ]
  },
  {
   "cell_type": "code",
   "execution_count": null,
   "id": "456ab5bf",
   "metadata": {},
   "outputs": [],
   "source": [
    "nb.likelihoods"
   ]
  },
  {
   "cell_type": "code",
   "execution_count": null,
   "id": "736984bf",
   "metadata": {},
   "outputs": [],
   "source": [
    "np.unique(execute.Y_train)"
   ]
  },
  {
   "cell_type": "code",
   "execution_count": null,
   "id": "edb3e065",
   "metadata": {},
   "outputs": [],
   "source": [
    "execute.X_train"
   ]
  },
  {
   "cell_type": "code",
   "execution_count": null,
   "id": "6f048f5a",
   "metadata": {},
   "outputs": [],
   "source": [
    "nb = NaiveBayes(k = 1)"
   ]
  },
  {
   "cell_type": "code",
   "execution_count": null,
   "id": "e610f2db",
   "metadata": {},
   "outputs": [],
   "source": [
    "nb.fit(execute.X_train, execute.Y_train)"
   ]
  },
  {
   "cell_type": "code",
   "execution_count": null,
   "id": "693e3cba",
   "metadata": {},
   "outputs": [],
   "source": [
    "out = nb.predict(execute.X_val)"
   ]
  },
  {
   "cell_type": "code",
   "execution_count": null,
   "id": "d114b434",
   "metadata": {},
   "outputs": [],
   "source": [
    "nb.y_probs"
   ]
  },
  {
   "cell_type": "code",
   "execution_count": null,
   "id": "7c74d989",
   "metadata": {},
   "outputs": [],
   "source": [
    "out"
   ]
  },
  {
   "cell_type": "code",
   "execution_count": null,
   "id": "52f959d1",
   "metadata": {},
   "outputs": [],
   "source": [
    "np.argmax(out, axis=1)"
   ]
  },
  {
   "cell_type": "markdown",
   "id": "adfe3afe",
   "metadata": {},
   "source": [
    "## 3. Using SVM module from scikit-learn "
   ]
  },
  {
   "cell_type": "markdown",
   "id": "4fd70e26",
   "metadata": {},
   "source": [
    "### 3.1 Results on Face Data"
   ]
  },
  {
   "cell_type": "code",
   "execution_count": null,
   "id": "ca25bdd7",
   "metadata": {},
   "outputs": [],
   "source": [
    "svc = SVC()\n",
    "featEx = FeatureExtractor(grid_shape = (14,12), round_off = 2)\n",
    "execute = Executor(data_source = 'facedata', featureExtractor=featEx, algorithm=svc, metric = 'acc')"
   ]
  },
  {
   "cell_type": "code",
   "execution_count": null,
   "id": "8b36058e",
   "metadata": {},
   "outputs": [],
   "source": [
    "print(execute.train_mean_met)\n",
    "print(execute.val_mean_met)\n",
    "print(execute.test_mean_met)"
   ]
  },
  {
   "cell_type": "markdown",
   "id": "cdf49a1b",
   "metadata": {},
   "source": [
    "### Results on Digit Data"
   ]
  },
  {
   "cell_type": "code",
   "execution_count": null,
   "id": "bf833716",
   "metadata": {},
   "outputs": [],
   "source": [
    "featEx = FeatureExtractor(grid_shape = (4,4), round_off = 2)\n",
    "svc = SVC()"
   ]
  },
  {
   "cell_type": "code",
   "execution_count": null,
   "id": "444ec56e",
   "metadata": {},
   "outputs": [],
   "source": [
    "execute = Executor(data_source = 'digitdata', featureExtractor=None, algorithm=svc, metric = 'acc')"
   ]
  },
  {
   "cell_type": "code",
   "execution_count": null,
   "id": "1d7b339f",
   "metadata": {},
   "outputs": [],
   "source": [
    "print(execute.train_mean_met)\n",
    "print(execute.val_mean_met)\n",
    "print(execute.test_mean_met)"
   ]
  },
  {
   "cell_type": "code",
   "execution_count": null,
   "id": "a9c9f521",
   "metadata": {},
   "outputs": [],
   "source": [
    "sort_x = np.sort(execute.X_train,axis=0)\n",
    "unique_feature_counts = (sort_x[1:,:] != sort_x[:-1,:]).sum(axis=0)+1\n",
    "unique_feature_counts"
   ]
  },
  {
   "cell_type": "code",
   "execution_count": null,
   "id": "9a352725",
   "metadata": {},
   "outputs": [],
   "source": [
    "np.unique(execute.X_train[:,34])"
   ]
  },
  {
   "cell_type": "code",
   "execution_count": null,
   "id": "c287c03c",
   "metadata": {},
   "outputs": [],
   "source": []
  }
 ],
 "metadata": {
  "kernelspec": {
   "display_name": "Python 3 (ipykernel)",
   "language": "python",
   "name": "python3"
  },
  "language_info": {
   "codemirror_mode": {
    "name": "ipython",
    "version": 3
   },
   "file_extension": ".py",
   "mimetype": "text/x-python",
   "name": "python",
   "nbconvert_exporter": "python",
   "pygments_lexer": "ipython3",
   "version": "3.8.10"
  }
 },
 "nbformat": 4,
 "nbformat_minor": 5
}
