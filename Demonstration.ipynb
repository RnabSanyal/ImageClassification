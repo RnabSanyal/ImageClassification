{
 "cells": [
  {
   "cell_type": "code",
   "execution_count": 1,
   "id": "193dd9aa",
   "metadata": {},
   "outputs": [],
   "source": [
    "import numpy as np\n",
    "from modules.executor import Executor\n",
    "from modules.feature import FeatureExtractor\n",
    "from modules.algorithms.perceptron import Perceptron\n",
    "from sklearn.svm import SVC\n",
    "from sklearn.neural_network import MLPClassifier\n",
    "import copy"
   ]
  },
  {
   "cell_type": "markdown",
   "id": "22f1a8ea",
   "metadata": {},
   "source": [
    "## 2. Using Perceptron"
   ]
  },
  {
   "cell_type": "code",
   "execution_count": 9,
   "id": "c2f0f8a9",
   "metadata": {},
   "outputs": [
    {
     "name": "stdout",
     "output_type": "stream",
     "text": [
      "X Shape: (5000, 196), Y Shape: (5000,)\n"
     ]
    }
   ],
   "source": [
    "perc = Perceptron(10000)\n",
    "featEx = FeatureExtractor(grid_shape = (2,2), round_off = 2)\n",
    "execute = Executor(data_source = 'digitdata', featureExtractor=featEx, algorithm=perc, metric = 'acc')"
   ]
  },
  {
   "cell_type": "code",
   "execution_count": 3,
   "id": "36908329",
   "metadata": {},
   "outputs": [
    {
     "name": "stdout",
     "output_type": "stream",
     "text": [
      "[1.0]\n",
      "[0.8870431893687708]\n",
      "[0.88]\n"
     ]
    }
   ],
   "source": [
    "print(execute.train_mean_met)\n",
    "print(execute.val_mean_met)\n",
    "print(execute.test_mean_met)"
   ]
  },
  {
   "cell_type": "code",
   "execution_count": 3,
   "id": "c54e2e99",
   "metadata": {},
   "outputs": [
    {
     "ename": "NameError",
     "evalue": "name 'execute' is not defined",
     "output_type": "error",
     "traceback": [
      "\u001b[1;31m---------------------------------------------------------------------------\u001b[0m",
      "\u001b[1;31mNameError\u001b[0m                                 Traceback (most recent call last)",
      "Cell \u001b[1;32mIn [3], line 1\u001b[0m\n\u001b[1;32m----> 1\u001b[0m X_train \u001b[38;5;241m=\u001b[39m \u001b[43mexecute\u001b[49m\u001b[38;5;241m.\u001b[39mX_train\n\u001b[0;32m      2\u001b[0m Y_train \u001b[38;5;241m=\u001b[39m execute\u001b[38;5;241m.\u001b[39mY_train\n\u001b[0;32m      4\u001b[0m perc \u001b[38;5;241m=\u001b[39m Perceptron(\u001b[38;5;241m10000\u001b[39m)\n",
      "\u001b[1;31mNameError\u001b[0m: name 'execute' is not defined"
     ]
    }
   ],
   "source": [
    "X_train = execute.X_train\n",
    "Y_train = execute.Y_train\n",
    "\n",
    "perc = Perceptron(10000)"
   ]
  },
  {
   "cell_type": "code",
   "execution_count": 9,
   "id": "d5eef53d",
   "metadata": {},
   "outputs": [
    {
     "name": "stdout",
     "output_type": "stream",
     "text": [
      "10 784\n",
      "(10, 785) (785, 5000)\n",
      "(5000,) (5000,)\n",
      "[5 0 4 ... 2 1 2]\n",
      "[0 0 0 ... 0 0 0]\n",
      "5000\n",
      "(10, 785) (785, 5000)\n",
      "(5000,) (5000,)\n",
      "[5 0 4 ... 2 1 2]\n",
      "[3 3 4 ... 2 1 2]\n",
      "5000\n",
      "Entered Break\n",
      "Training ended\n"
     ]
    }
   ],
   "source": [
    "perc.fit(X_train, Y_train)"
   ]
  },
  {
   "cell_type": "code",
   "execution_count": 7,
   "id": "4d779ec8",
   "metadata": {},
   "outputs": [
    {
     "name": "stdout",
     "output_type": "stream",
     "text": [
      "[0.288, 0.23000000000000004, 0.31533333333333335, 0.3125, 0.3808, 0.312, 0.6508571428571429, 0.923, 0.6371111111111111, 0.1414]\n",
      "[0.356, 0.271, 0.363, 0.312, 0.41, 0.293, 0.641, 0.8459999999999999, 0.581, 0.139]\n",
      "[0.334, 0.262, 0.34, 0.296, 0.387, 0.285, 0.612, 0.8030000000000002, 0.57, 0.125]\n"
     ]
    }
   ],
   "source": [
    "print(execute.train_mean_met)\n",
    "print(execute.val_mean_met)\n",
    "print(execute.test_mean_met)"
   ]
  },
  {
   "cell_type": "markdown",
   "id": "a0ded55f",
   "metadata": {},
   "source": [
    "## 1. Using Naive Bayes Implementation"
   ]
  },
  {
   "cell_type": "code",
   "execution_count": null,
   "id": "d8e21211",
   "metadata": {},
   "outputs": [],
   "source": [
    "featEx = FeatureExtractor(grid_shape = (5,5), round_off = 1)\n",
    "nb = NaiveBayes(k = 0.1)\n",
    "execute = Executor(data_source = 'facedata', featureExtractor=featEx, algorithm=nb, metric = 'acc', quick=False)"
   ]
  },
  {
   "cell_type": "code",
   "execution_count": null,
   "id": "429bd365",
   "metadata": {},
   "outputs": [],
   "source": [
    "print(execute.train_mean_met)\n",
    "print(execute.val_mean_met)\n",
    "print(execute.test_mean_met)"
   ]
  },
  {
   "cell_type": "code",
   "execution_count": null,
   "id": "ef73138e",
   "metadata": {},
   "outputs": [],
   "source": [
    "np.round(0.001, 0)"
   ]
  },
  {
   "cell_type": "code",
   "execution_count": null,
   "id": "f6f26d0b",
   "metadata": {},
   "outputs": [],
   "source": [
    "featEx = FeatureExtractor(grid_shape = (4,4), round_off = 2)\n",
    "\n",
    "for k in [0.0001, 0.001, 0.005, 0.01, 0.05, 0.1, 1, 2]:\n",
    "    nb = NaiveBayes(k)\n",
    "    execute = Executor(data_source = 'digitdata', featureExtractor=featEx, algorithm=nb, metric = 'acc', quick=True)\n",
    "    print(execute.test_mean_met)"
   ]
  },
  {
   "cell_type": "markdown",
   "id": "72755d48",
   "metadata": {},
   "source": [
    "###### print(execute.train_mean_met)\n",
    "print(execute.val_mean_met)\n",
    "print(execute.test_mean_met)"
   ]
  },
  {
   "cell_type": "code",
   "execution_count": null,
   "id": "c9532014",
   "metadata": {},
   "outputs": [],
   "source": [
    "nb.predict(execute.X_val)"
   ]
  },
  {
   "cell_type": "code",
   "execution_count": null,
   "id": "052faae2",
   "metadata": {},
   "outputs": [],
   "source": [
    "nb.likelihoods"
   ]
  },
  {
   "cell_type": "code",
   "execution_count": null,
   "id": "7badf79e",
   "metadata": {},
   "outputs": [],
   "source": [
    "np.unique(execute.Y_train)"
   ]
  },
  {
   "cell_type": "code",
   "execution_count": null,
   "id": "e6eeed7f",
   "metadata": {},
   "outputs": [],
   "source": [
    "execute.X_train"
   ]
  },
  {
   "cell_type": "code",
   "execution_count": null,
   "id": "0234b0e0",
   "metadata": {},
   "outputs": [],
   "source": [
    "nb = NaiveBayes(k = 1)"
   ]
  },
  {
   "cell_type": "code",
   "execution_count": null,
   "id": "2bb2d305",
   "metadata": {},
   "outputs": [],
   "source": [
    "nb.fit(execute.X_train, execute.Y_train)"
   ]
  },
  {
   "cell_type": "code",
   "execution_count": null,
   "id": "11135d7e",
   "metadata": {},
   "outputs": [],
   "source": [
    "out = nb.predict(execute.X_val)"
   ]
  },
  {
   "cell_type": "code",
   "execution_count": null,
   "id": "27a33d50",
   "metadata": {},
   "outputs": [],
   "source": [
    "nb.y_probs"
   ]
  },
  {
   "cell_type": "code",
   "execution_count": null,
   "id": "cf60fff2",
   "metadata": {},
   "outputs": [],
   "source": [
    "out"
   ]
  },
  {
   "cell_type": "code",
   "execution_count": null,
   "id": "f2a5ff7f",
   "metadata": {},
   "outputs": [],
   "source": [
    "np.argmax(out, axis=1)"
   ]
  },
  {
   "cell_type": "markdown",
   "id": "adfe3afe",
   "metadata": {},
   "source": [
    "## 3. Using SVM module from scikit-learn "
   ]
  },
  {
   "cell_type": "markdown",
   "id": "ff9fc2dc",
   "metadata": {},
   "source": [
    "### 3.1 Results on Face Data"
   ]
  },
  {
   "cell_type": "code",
   "execution_count": 7,
   "id": "ca25bdd7",
   "metadata": {},
   "outputs": [
    {
     "name": "stdout",
     "output_type": "stream",
     "text": [
      "X Shape: (5000, 196), Y Shape: (5000,)\n"
     ]
    }
   ],
   "source": [
    "svc = SVC()\n",
    "featEx = FeatureExtractor(grid_shape = (2,2), round_off = 2)\n",
    "execute = Executor(data_source = 'digitdata', featureExtractor=featEx, algorithm=svc, metric = 'acc')"
   ]
  },
  {
   "cell_type": "code",
   "execution_count": 8,
   "id": "8b36058e",
   "metadata": {},
   "outputs": [
    {
     "name": "stdout",
     "output_type": "stream",
     "text": [
      "[0.9884]\n",
      "[0.926]\n",
      "[0.919]\n"
     ]
    }
   ],
   "source": [
    "print(execute.train_mean_met)\n",
    "print(execute.val_mean_met)\n",
    "print(execute.test_mean_met)"
   ]
  },
  {
   "cell_type": "code",
   "execution_count": 10,
   "id": "ee0b5900",
   "metadata": {},
   "outputs": [
    {
     "ename": "Exception",
     "evalue": "Grid size incompatible with image dimensions",
     "output_type": "error",
     "traceback": [
      "\u001b[1;31m---------------------------------------------------------------------------\u001b[0m",
      "\u001b[1;31mException\u001b[0m                                 Traceback (most recent call last)",
      "Cell \u001b[1;32mIn [10], line 3\u001b[0m\n\u001b[0;32m      1\u001b[0m svc \u001b[38;5;241m=\u001b[39m SVC()\n\u001b[0;32m      2\u001b[0m featEx \u001b[38;5;241m=\u001b[39m FeatureExtractor(grid_shape \u001b[38;5;241m=\u001b[39m (\u001b[38;5;241m10\u001b[39m,\u001b[38;5;241m10\u001b[39m), round_off \u001b[38;5;241m=\u001b[39m \u001b[38;5;241m2\u001b[39m)\n\u001b[1;32m----> 3\u001b[0m execute \u001b[38;5;241m=\u001b[39m \u001b[43mExecutor\u001b[49m\u001b[43m(\u001b[49m\u001b[43mdata_source\u001b[49m\u001b[43m \u001b[49m\u001b[38;5;241;43m=\u001b[39;49m\u001b[43m \u001b[49m\u001b[38;5;124;43m'\u001b[39;49m\u001b[38;5;124;43mdigitdata\u001b[39;49m\u001b[38;5;124;43m'\u001b[39;49m\u001b[43m,\u001b[49m\u001b[43m \u001b[49m\u001b[43mfeatureExtractor\u001b[49m\u001b[38;5;241;43m=\u001b[39;49m\u001b[43mfeatEx\u001b[49m\u001b[43m,\u001b[49m\u001b[43m \u001b[49m\u001b[43malgorithm\u001b[49m\u001b[38;5;241;43m=\u001b[39;49m\u001b[43msvc\u001b[49m\u001b[43m,\u001b[49m\u001b[43m \u001b[49m\u001b[43mmetric\u001b[49m\u001b[43m \u001b[49m\u001b[38;5;241;43m=\u001b[39;49m\u001b[43m \u001b[49m\u001b[38;5;124;43m'\u001b[39;49m\u001b[38;5;124;43macc\u001b[39;49m\u001b[38;5;124;43m'\u001b[39;49m\u001b[43m)\u001b[49m\n",
      "File \u001b[1;32m~\\OneDrive\\Desktop\\Projects\\ImageClassification\\modules\\executor.py:21\u001b[0m, in \u001b[0;36mExecutor.__init__\u001b[1;34m(self, data_source, featureExtractor, algorithm, metric, quick)\u001b[0m\n\u001b[0;32m     18\u001b[0m \u001b[38;5;28mself\u001b[39m\u001b[38;5;241m.\u001b[39malgorithm \u001b[38;5;241m=\u001b[39m algorithm\n\u001b[0;32m     19\u001b[0m \u001b[38;5;28mself\u001b[39m\u001b[38;5;241m.\u001b[39mquick \u001b[38;5;241m=\u001b[39m quick\n\u001b[1;32m---> 21\u001b[0m \u001b[38;5;28;43mself\u001b[39;49m\u001b[38;5;241;43m.\u001b[39;49m\u001b[43mprepareData\u001b[49m\u001b[43m(\u001b[49m\u001b[43m)\u001b[49m\n\u001b[0;32m     22\u001b[0m \u001b[38;5;28mself\u001b[39m\u001b[38;5;241m.\u001b[39mexecute()\n",
      "File \u001b[1;32m~\\OneDrive\\Desktop\\Projects\\ImageClassification\\modules\\executor.py:60\u001b[0m, in \u001b[0;36mExecutor.prepareData\u001b[1;34m(self)\u001b[0m\n\u001b[0;32m     56\u001b[0m             \u001b[38;5;28mself\u001b[39m\u001b[38;5;241m.\u001b[39mX_val \u001b[38;5;241m=\u001b[39m \u001b[38;5;28mself\u001b[39m\u001b[38;5;241m.\u001b[39mparseData(file_path, rows)\n\u001b[0;32m     58\u001b[0m \u001b[38;5;28;01mif\u001b[39;00m \u001b[38;5;28mself\u001b[39m\u001b[38;5;241m.\u001b[39mfeatureExtractor:\n\u001b[1;32m---> 60\u001b[0m     \u001b[38;5;28mself\u001b[39m\u001b[38;5;241m.\u001b[39mX_train \u001b[38;5;241m=\u001b[39m \u001b[38;5;28;43mself\u001b[39;49m\u001b[38;5;241;43m.\u001b[39;49m\u001b[43mfeatureExtractor\u001b[49m\u001b[38;5;241;43m.\u001b[39;49m\u001b[43mextract\u001b[49m\u001b[43m(\u001b[49m\u001b[38;5;28;43mself\u001b[39;49m\u001b[38;5;241;43m.\u001b[39;49m\u001b[43mX_train\u001b[49m\u001b[43m)\u001b[49m\n\u001b[0;32m     61\u001b[0m     \u001b[38;5;28mself\u001b[39m\u001b[38;5;241m.\u001b[39mX_val \u001b[38;5;241m=\u001b[39m \u001b[38;5;28mself\u001b[39m\u001b[38;5;241m.\u001b[39mfeatureExtractor\u001b[38;5;241m.\u001b[39mextract(\u001b[38;5;28mself\u001b[39m\u001b[38;5;241m.\u001b[39mX_val)\n\u001b[0;32m     62\u001b[0m     \u001b[38;5;28mself\u001b[39m\u001b[38;5;241m.\u001b[39mX_test \u001b[38;5;241m=\u001b[39m \u001b[38;5;28mself\u001b[39m\u001b[38;5;241m.\u001b[39mfeatureExtractor\u001b[38;5;241m.\u001b[39mextract(\u001b[38;5;28mself\u001b[39m\u001b[38;5;241m.\u001b[39mX_test)\n",
      "File \u001b[1;32m~\\OneDrive\\Desktop\\Projects\\ImageClassification\\modules\\feature.py:37\u001b[0m, in \u001b[0;36mFeatureExtractor.extract\u001b[1;34m(self, X)\u001b[0m\n\u001b[0;32m     34\u001b[0m grid_rows, grid_cols \u001b[38;5;241m=\u001b[39m \u001b[38;5;28mself\u001b[39m\u001b[38;5;241m.\u001b[39mgrid_shape\n\u001b[0;32m     36\u001b[0m \u001b[38;5;28;01mif\u001b[39;00m img_rows \u001b[38;5;241m%\u001b[39m grid_rows \u001b[38;5;129;01mor\u001b[39;00m img_cols \u001b[38;5;241m%\u001b[39m grid_cols:\n\u001b[1;32m---> 37\u001b[0m     \u001b[38;5;28;01mraise\u001b[39;00m \u001b[38;5;167;01mException\u001b[39;00m(\u001b[38;5;124m\"\u001b[39m\u001b[38;5;124mGrid size incompatible with image dimensions\u001b[39m\u001b[38;5;124m\"\u001b[39m)\n\u001b[0;32m     39\u001b[0m \u001b[38;5;66;03m# reshape x to run calculations on axes directly\u001b[39;00m\n\u001b[0;32m     40\u001b[0m X_reshaped \u001b[38;5;241m=\u001b[39m \\\n\u001b[0;32m     41\u001b[0m     X\u001b[38;5;241m.\u001b[39mreshape(no_imgs, \u001b[38;5;28mint\u001b[39m(img_rows\u001b[38;5;241m/\u001b[39mgrid_rows), grid_rows, \u001b[38;5;28mint\u001b[39m(img_cols\u001b[38;5;241m/\u001b[39mgrid_cols), grid_cols)\n",
      "\u001b[1;31mException\u001b[0m: Grid size incompatible with image dimensions"
     ]
    }
   ],
   "source": [
    "svc = SVC()\n",
    "featEx = FeatureExtractor(grid_shape = (10,10), round_off = 2)\n",
    "execute = Executor(data_source = 'digitdata', featureExtractor=featEx, algorithm=svc, metric = 'acc')"
   ]
  },
  {
   "cell_type": "markdown",
   "id": "5369457d",
   "metadata": {},
   "source": [
    "### Results on Digit Data"
   ]
  },
  {
   "cell_type": "code",
   "execution_count": null,
   "id": "bf833716",
   "metadata": {},
   "outputs": [],
   "source": [
    "featEx = FeatureExtractor(grid_shape = (4,4), round_off = 2)\n",
    "svc = SVC()"
   ]
  },
  {
   "cell_type": "code",
   "execution_count": null,
   "id": "444ec56e",
   "metadata": {},
   "outputs": [],
   "source": [
    "execute = Executor(data_source = 'digitdata', featureExtractor=None, algorithm=svc, metric = 'acc')"
   ]
  },
  {
   "cell_type": "code",
   "execution_count": null,
   "id": "1d7b339f",
   "metadata": {},
   "outputs": [],
   "source": [
    "print(execute.train_mean_met)\n",
    "print(execute.val_mean_met)\n",
    "print(execute.test_mean_met)"
   ]
  },
  {
   "cell_type": "code",
   "execution_count": null,
   "id": "994b541c",
   "metadata": {},
   "outputs": [],
   "source": [
    "sort_x = np.sort(execute.X_train,axis=0)\n",
    "unique_feature_counts = (sort_x[1:,:] != sort_x[:-1,:]).sum(axis=0)+1\n",
    "unique_feature_counts"
   ]
  },
  {
   "cell_type": "code",
   "execution_count": null,
   "id": "77ef5343",
   "metadata": {},
   "outputs": [],
   "source": [
    "np.unique(execute.X_train[:,34])"
   ]
  },
  {
   "cell_type": "code",
   "execution_count": null,
   "id": "27055012",
   "metadata": {},
   "outputs": [],
   "source": []
  }
 ],
 "metadata": {
  "kernelspec": {
   "display_name": "Python 3 (ipykernel)",
   "language": "python",
   "name": "python3"
  },
  "language_info": {
   "codemirror_mode": {
    "name": "ipython",
    "version": 3
   },
   "file_extension": ".py",
   "mimetype": "text/x-python",
   "name": "python",
   "nbconvert_exporter": "python",
   "pygments_lexer": "ipython3",
   "version": "3.8.10"
  }
 },
 "nbformat": 4,
 "nbformat_minor": 5
}
