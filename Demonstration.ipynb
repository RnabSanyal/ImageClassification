{
 "cells": [
  {
   "cell_type": "code",
   "execution_count": 2,
   "id": "193dd9aa",
   "metadata": {},
   "outputs": [],
   "source": [
    "import numpy as np\n",
    "from modules.executor import Executor\n",
    "from modules.feature import FeatureExtractor\n",
    "from sklearn.svm import SVC\n",
    "from sklearn.neural_network import MLPClassifier"
   ]
  },
  {
   "cell_type": "markdown",
   "id": "adfe3afe",
   "metadata": {},
   "source": [
    "## 3. Using SVM module from scikit-learn "
   ]
  },
  {
   "cell_type": "markdown",
   "id": "20603554",
   "metadata": {},
   "source": [
    "### 3.1 Results on Face Data"
   ]
  },
  {
   "cell_type": "code",
   "execution_count": 10,
   "id": "ca25bdd7",
   "metadata": {},
   "outputs": [
    {
     "name": "stdout",
     "output_type": "stream",
     "text": [
      "\n",
      "X Shape: (45, 25), Y Shape: (45,)\n",
      "X Shape: (45, 25), Y Shape: (45,)\n",
      "X Shape: (45, 25), Y Shape: (45,)\n",
      "X Shape: (45, 25), Y Shape: (45,)\n",
      "X Shape: (45, 25), Y Shape: (45,)\n",
      "\n",
      "X Shape: (90, 25), Y Shape: (90,)\n",
      "X Shape: (90, 25), Y Shape: (90,)\n",
      "X Shape: (90, 25), Y Shape: (90,)\n",
      "X Shape: (90, 25), Y Shape: (90,)\n",
      "X Shape: (90, 25), Y Shape: (90,)\n",
      "\n",
      "X Shape: (135, 25), Y Shape: (135,)\n",
      "X Shape: (135, 25), Y Shape: (135,)\n",
      "X Shape: (135, 25), Y Shape: (135,)\n",
      "X Shape: (135, 25), Y Shape: (135,)\n",
      "X Shape: (135, 25), Y Shape: (135,)\n",
      "\n",
      "X Shape: (180, 25), Y Shape: (180,)\n",
      "X Shape: (180, 25), Y Shape: (180,)\n",
      "X Shape: (180, 25), Y Shape: (180,)\n",
      "X Shape: (180, 25), Y Shape: (180,)\n",
      "X Shape: (180, 25), Y Shape: (180,)\n",
      "\n",
      "X Shape: (225, 25), Y Shape: (225,)\n",
      "X Shape: (225, 25), Y Shape: (225,)\n",
      "X Shape: (225, 25), Y Shape: (225,)\n",
      "X Shape: (225, 25), Y Shape: (225,)\n",
      "X Shape: (225, 25), Y Shape: (225,)\n",
      "\n",
      "X Shape: (270, 25), Y Shape: (270,)\n",
      "X Shape: (270, 25), Y Shape: (270,)\n",
      "X Shape: (270, 25), Y Shape: (270,)\n",
      "X Shape: (270, 25), Y Shape: (270,)\n",
      "X Shape: (270, 25), Y Shape: (270,)\n",
      "\n",
      "X Shape: (315, 25), Y Shape: (315,)\n",
      "X Shape: (315, 25), Y Shape: (315,)\n",
      "X Shape: (315, 25), Y Shape: (315,)\n",
      "X Shape: (315, 25), Y Shape: (315,)\n",
      "X Shape: (315, 25), Y Shape: (315,)\n",
      "\n",
      "X Shape: (360, 25), Y Shape: (360,)\n",
      "X Shape: (360, 25), Y Shape: (360,)\n",
      "X Shape: (360, 25), Y Shape: (360,)\n",
      "X Shape: (360, 25), Y Shape: (360,)\n",
      "X Shape: (360, 25), Y Shape: (360,)\n",
      "\n",
      "X Shape: (405, 25), Y Shape: (405,)\n",
      "X Shape: (405, 25), Y Shape: (405,)\n",
      "X Shape: (405, 25), Y Shape: (405,)\n",
      "X Shape: (405, 25), Y Shape: (405,)\n",
      "X Shape: (405, 25), Y Shape: (405,)\n",
      "\n",
      "X Shape: (450, 25), Y Shape: (450,)\n",
      "X Shape: (450, 25), Y Shape: (450,)\n",
      "X Shape: (450, 25), Y Shape: (450,)\n",
      "X Shape: (450, 25), Y Shape: (450,)\n",
      "X Shape: (450, 25), Y Shape: (450,)\n"
     ]
    }
   ],
   "source": [
    "svc = SVC()\n",
    "featEx = FeatureExtractor(grid_shape = (14,12), round_off = 2)\n",
    "execute = Executor(data_source = 'facedata', featureExtractor=featEx, algorithm=svc, metric = 'acc')"
   ]
  },
  {
   "cell_type": "code",
   "execution_count": 11,
   "id": "8b36058e",
   "metadata": {},
   "outputs": [
    {
     "name": "stdout",
     "output_type": "stream",
     "text": [
      "[1.0, 0.9666666666666666, 0.9259259259259259, 0.9722222222222221, 0.968888888888889, 0.9814814814814815, 0.9746031746031745, 0.9666666666666666, 0.9654320987654321, 0.968888888888889]\n",
      "[0.8405315614617941, 0.8637873754152825, 0.8338870431893689, 0.893687707641196, 0.8803986710963455, 0.8870431893687709, 0.8903654485049832, 0.893687707641196, 0.9003322259136212, 0.893687707641196]\n",
      "[0.8333333333333334, 0.8333333333333334, 0.78, 0.8466666666666667, 0.8533333333333333, 0.8466666666666667, 0.8466666666666667, 0.8533333333333333, 0.8466666666666667, 0.8533333333333333]\n"
     ]
    }
   ],
   "source": [
    "print(execute.train_mean_met)\n",
    "print(execute.val_mean_met)\n",
    "print(execute.test_mean_met)"
   ]
  },
  {
   "cell_type": "markdown",
   "id": "a417faf4",
   "metadata": {},
   "source": [
    "### Results on Digit Data"
   ]
  },
  {
   "cell_type": "code",
   "execution_count": 4,
   "id": "bf833716",
   "metadata": {},
   "outputs": [],
   "source": [
    "featEx = FeatureExtractor(grid_shape = (4,4), round_off = 2)\n",
    "svc = SVC()"
   ]
  },
  {
   "cell_type": "code",
   "execution_count": null,
   "id": "444ec56e",
   "metadata": {},
   "outputs": [
    {
     "name": "stdout",
     "output_type": "stream",
     "text": [
      "\n",
      "X Shape: (500, 784), Y Shape: (500,)\n",
      "X Shape: (500, 784), Y Shape: (500,)\n",
      "X Shape: (500, 784), Y Shape: (500,)\n",
      "X Shape: (500, 784), Y Shape: (500,)\n",
      "X Shape: (500, 784), Y Shape: (500,)\n",
      "\n",
      "X Shape: (1000, 784), Y Shape: (1000,)\n",
      "X Shape: (1000, 784), Y Shape: (1000,)\n",
      "X Shape: (1000, 784), Y Shape: (1000,)\n",
      "X Shape: (1000, 784), Y Shape: (1000,)\n",
      "X Shape: (1000, 784), Y Shape: (1000,)\n",
      "\n",
      "X Shape: (1500, 784), Y Shape: (1500,)\n",
      "X Shape: (1500, 784), Y Shape: (1500,)\n",
      "X Shape: (1500, 784), Y Shape: (1500,)\n",
      "X Shape: (1500, 784), Y Shape: (1500,)\n",
      "X Shape: (1500, 784), Y Shape: (1500,)\n",
      "\n",
      "X Shape: (2000, 784), Y Shape: (2000,)\n",
      "X Shape: (2000, 784), Y Shape: (2000,)\n",
      "X Shape: (2000, 784), Y Shape: (2000,)\n",
      "X Shape: (2000, 784), Y Shape: (2000,)\n",
      "X Shape: (2000, 784), Y Shape: (2000,)\n",
      "\n",
      "X Shape: (2500, 784), Y Shape: (2500,)\n",
      "X Shape: (2500, 784), Y Shape: (2500,)\n",
      "X Shape: (2500, 784), Y Shape: (2500,)\n",
      "X Shape: (2500, 784), Y Shape: (2500,)\n",
      "X Shape: (2500, 784), Y Shape: (2500,)\n",
      "\n",
      "X Shape: (3000, 784), Y Shape: (3000,)\n",
      "X Shape: (3000, 784), Y Shape: (3000,)\n",
      "X Shape: (3000, 784), Y Shape: (3000,)\n",
      "X Shape: (3000, 784), Y Shape: (3000,)\n",
      "X Shape: (3000, 784), Y Shape: (3000,)\n",
      "\n",
      "X Shape: (3500, 784), Y Shape: (3500,)\n",
      "X Shape: (3500, 784), Y Shape: (3500,)\n",
      "X Shape: (3500, 784), Y Shape: (3500,)\n",
      "X Shape: (3500, 784), Y Shape: (3500,)\n",
      "X Shape: (3500, 784), Y Shape: (3500,)\n",
      "\n",
      "X Shape: (4000, 784), Y Shape: (4000,)\n",
      "X Shape: (4000, 784), Y Shape: (4000,)\n",
      "X Shape: (4000, 784), Y Shape: (4000,)\n",
      "X Shape: (4000, 784), Y Shape: (4000,)\n",
      "X Shape: (4000, 784), Y Shape: (4000,)\n",
      "\n",
      "X Shape: (4500, 784), Y Shape: (4500,)\n",
      "X Shape: (4500, 784), Y Shape: (4500,)\n",
      "X Shape: (4500, 784), Y Shape: (4500,)\n"
     ]
    }
   ],
   "source": [
    "execute = Executor(data_source = 'digitdata', featureExtractor=None, algorithm=svc, metric = 'acc')"
   ]
  },
  {
   "cell_type": "code",
   "execution_count": 6,
   "id": "1d7b339f",
   "metadata": {},
   "outputs": [
    {
     "name": "stdout",
     "output_type": "stream",
     "text": [
      "[0.9339999999999999, 0.951, 0.9573333333333334, 0.96, 0.9583999999999999, 0.9596666666666668, 0.9582857142857144, 0.9629999999999999, 0.9640000000000001, 0.965]\n",
      "[0.8560000000000001, 0.875, 0.893, 0.9019999999999999, 0.9099999999999999, 0.909, 0.9030000000000001, 0.922, 0.917, 0.919]\n",
      "[0.829, 0.8539999999999999, 0.875, 0.884, 0.885, 0.885, 0.889, 0.899, 0.898, 0.891]\n"
     ]
    }
   ],
   "source": [
    "print(execute.train_mean_met)\n",
    "print(execute.val_mean_met)\n",
    "print(execute.test_mean_met)"
   ]
  },
  {
   "cell_type": "code",
   "execution_count": null,
   "id": "1a6c364d",
   "metadata": {},
   "outputs": [],
   "source": []
  }
 ],
 "metadata": {
  "kernelspec": {
   "display_name": "Python 3 (ipykernel)",
   "language": "python",
   "name": "python3"
  },
  "language_info": {
   "codemirror_mode": {
    "name": "ipython",
    "version": 3
   },
   "file_extension": ".py",
   "mimetype": "text/x-python",
   "name": "python",
   "nbconvert_exporter": "python",
   "pygments_lexer": "ipython3",
   "version": "3.8.10"
  }
 },
 "nbformat": 4,
 "nbformat_minor": 5
}
