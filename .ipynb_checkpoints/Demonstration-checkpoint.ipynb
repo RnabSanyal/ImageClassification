{
 "cells": [
  {
   "cell_type": "code",
   "execution_count": 1,
   "id": "193dd9aa",
   "metadata": {},
   "outputs": [],
   "source": [
    "import numpy as np\n",
    "from modules.executor import Executor\n",
    "from modules.feature import FeatureExtractor\n",
    "from modules.algorithms.perceptron import Perceptron\n",
    "from sklearn.svm import SVC\n",
    "from sklearn.neural_network import MLPClassifier\n",
    "import copy"
   ]
  },
  {
   "cell_type": "markdown",
   "id": "97235c8a",
   "metadata": {},
   "source": [
    "## 2. Using Perceptron"
   ]
  },
  {
   "cell_type": "code",
   "execution_count": 4,
   "id": "0a4096cc",
   "metadata": {},
   "outputs": [
    {
     "name": "stdout",
     "output_type": "stream",
     "text": [
      "X Shape: (450, 4200), Y Shape: (450,)\n",
      "Entered Break\n",
      "Training ended\n"
     ]
    }
   ],
   "source": [
    "perc = Perceptron(10000)\n",
    "execute = Executor(data_source = 'facedata', featureExtractor=None, algorithm=perc, metric = 'acc')"
   ]
  },
  {
   "cell_type": "code",
   "execution_count": 5,
   "id": "dcb7c2cd",
   "metadata": {},
   "outputs": [
    {
     "name": "stdout",
     "output_type": "stream",
     "text": [
      "[1.0]\n",
      "[0.8903654485049833]\n",
      "[0.8666666666666667]\n"
     ]
    }
   ],
   "source": [
    "print(execute.train_mean_met)\n",
    "print(execute.val_mean_met)\n",
    "print(execute.test_mean_met)"
   ]
  },
  {
   "cell_type": "code",
   "execution_count": 3,
   "id": "d3734706",
   "metadata": {},
   "outputs": [
    {
     "ename": "NameError",
     "evalue": "name 'execute' is not defined",
     "output_type": "error",
     "traceback": [
      "\u001b[1;31m---------------------------------------------------------------------------\u001b[0m",
      "\u001b[1;31mNameError\u001b[0m                                 Traceback (most recent call last)",
      "Cell \u001b[1;32mIn [3], line 1\u001b[0m\n\u001b[1;32m----> 1\u001b[0m X_train \u001b[38;5;241m=\u001b[39m \u001b[43mexecute\u001b[49m\u001b[38;5;241m.\u001b[39mX_train\n\u001b[0;32m      2\u001b[0m Y_train \u001b[38;5;241m=\u001b[39m execute\u001b[38;5;241m.\u001b[39mY_train\n\u001b[0;32m      4\u001b[0m perc \u001b[38;5;241m=\u001b[39m Perceptron(\u001b[38;5;241m10000\u001b[39m)\n",
      "\u001b[1;31mNameError\u001b[0m: name 'execute' is not defined"
     ]
    }
   ],
   "source": [
    "X_train = execute.X_train\n",
    "Y_train = execute.Y_train\n",
    "\n",
    "perc = Perceptron(10000)"
   ]
  },
  {
   "cell_type": "code",
   "execution_count": 9,
   "id": "0195c66f",
   "metadata": {},
   "outputs": [
    {
     "name": "stdout",
     "output_type": "stream",
     "text": [
      "10 784\n",
      "(10, 785) (785, 5000)\n",
      "(5000,) (5000,)\n",
      "[5 0 4 ... 2 1 2]\n",
      "[0 0 0 ... 0 0 0]\n",
      "5000\n",
      "(10, 785) (785, 5000)\n",
      "(5000,) (5000,)\n",
      "[5 0 4 ... 2 1 2]\n",
      "[3 3 4 ... 2 1 2]\n",
      "5000\n",
      "Entered Break\n",
      "Training ended\n"
     ]
    }
   ],
   "source": [
    "perc.fit(X_train, Y_train)"
   ]
  },
  {
   "cell_type": "code",
   "execution_count": 7,
   "id": "a74e6963",
   "metadata": {},
   "outputs": [
    {
     "name": "stdout",
     "output_type": "stream",
     "text": [
      "[0.288, 0.23000000000000004, 0.31533333333333335, 0.3125, 0.3808, 0.312, 0.6508571428571429, 0.923, 0.6371111111111111, 0.1414]\n",
      "[0.356, 0.271, 0.363, 0.312, 0.41, 0.293, 0.641, 0.8459999999999999, 0.581, 0.139]\n",
      "[0.334, 0.262, 0.34, 0.296, 0.387, 0.285, 0.612, 0.8030000000000002, 0.57, 0.125]\n"
     ]
    }
   ],
   "source": [
    "print(execute.train_mean_met)\n",
    "print(execute.val_mean_met)\n",
    "print(execute.test_mean_met)"
   ]
  },
  {
   "cell_type": "markdown",
   "id": "81ccab7c",
   "metadata": {},
   "source": [
    "## 1. Using Naive Bayes Implementation"
   ]
  },
  {
   "cell_type": "code",
   "execution_count": null,
   "id": "33cf13a3",
   "metadata": {},
   "outputs": [],
   "source": [
    "featEx = FeatureExtractor(grid_shape = (5,5), round_off = 1)\n",
    "nb = NaiveBayes(k = 0.1)\n",
    "execute = Executor(data_source = 'facedata', featureExtractor=featEx, algorithm=nb, metric = 'acc', quick=False)"
   ]
  },
  {
   "cell_type": "code",
   "execution_count": null,
   "id": "ab3c4fd1",
   "metadata": {},
   "outputs": [],
   "source": [
    "print(execute.train_mean_met)\n",
    "print(execute.val_mean_met)\n",
    "print(execute.test_mean_met)"
   ]
  },
  {
   "cell_type": "code",
   "execution_count": null,
   "id": "5eca5edf",
   "metadata": {},
   "outputs": [],
   "source": [
    "np.round(0.001, 0)"
   ]
  },
  {
   "cell_type": "code",
   "execution_count": null,
   "id": "5726f1e1",
   "metadata": {},
   "outputs": [],
   "source": [
    "featEx = FeatureExtractor(grid_shape = (4,4), round_off = 2)\n",
    "\n",
    "for k in [0.0001, 0.001, 0.005, 0.01, 0.05, 0.1, 1, 2]:\n",
    "    nb = NaiveBayes(k)\n",
    "    execute = Executor(data_source = 'digitdata', featureExtractor=featEx, algorithm=nb, metric = 'acc', quick=True)\n",
    "    print(execute.test_mean_met)"
   ]
  },
  {
   "cell_type": "markdown",
   "id": "d678b677",
   "metadata": {},
   "source": [
    "###### print(execute.train_mean_met)\n",
    "print(execute.val_mean_met)\n",
    "print(execute.test_mean_met)"
   ]
  },
  {
   "cell_type": "code",
   "execution_count": null,
   "id": "12739069",
   "metadata": {},
   "outputs": [],
   "source": [
    "nb.predict(execute.X_val)"
   ]
  },
  {
   "cell_type": "code",
   "execution_count": null,
   "id": "5b83fb25",
   "metadata": {},
   "outputs": [],
   "source": [
    "nb.likelihoods"
   ]
  },
  {
   "cell_type": "code",
   "execution_count": null,
   "id": "bbb780e1",
   "metadata": {},
   "outputs": [],
   "source": [
    "np.unique(execute.Y_train)"
   ]
  },
  {
   "cell_type": "code",
   "execution_count": null,
   "id": "f9dd0879",
   "metadata": {},
   "outputs": [],
   "source": [
    "execute.X_train"
   ]
  },
  {
   "cell_type": "code",
   "execution_count": null,
   "id": "ab9d257b",
   "metadata": {},
   "outputs": [],
   "source": [
    "nb = NaiveBayes(k = 1)"
   ]
  },
  {
   "cell_type": "code",
   "execution_count": null,
   "id": "684b6b71",
   "metadata": {},
   "outputs": [],
   "source": [
    "nb.fit(execute.X_train, execute.Y_train)"
   ]
  },
  {
   "cell_type": "code",
   "execution_count": null,
   "id": "9114f7b5",
   "metadata": {},
   "outputs": [],
   "source": [
    "out = nb.predict(execute.X_val)"
   ]
  },
  {
   "cell_type": "code",
   "execution_count": null,
   "id": "58caea6c",
   "metadata": {},
   "outputs": [],
   "source": [
    "nb.y_probs"
   ]
  },
  {
   "cell_type": "code",
   "execution_count": null,
   "id": "2f740ed5",
   "metadata": {},
   "outputs": [],
   "source": [
    "out"
   ]
  },
  {
   "cell_type": "code",
   "execution_count": null,
   "id": "a33f35d4",
   "metadata": {},
   "outputs": [],
   "source": [
    "np.argmax(out, axis=1)"
   ]
  },
  {
   "cell_type": "markdown",
   "id": "adfe3afe",
   "metadata": {},
   "source": [
    "## 3. Using SVM module from scikit-learn "
   ]
  },
  {
   "cell_type": "markdown",
   "id": "f31726e4",
   "metadata": {},
   "source": [
    "### 3.1 Results on Face Data"
   ]
  },
  {
   "cell_type": "code",
   "execution_count": null,
   "id": "ca25bdd7",
   "metadata": {},
   "outputs": [],
   "source": [
    "svc = SVC()\n",
    "featEx = FeatureExtractor(grid_shape = (14,12), round_off = 2)\n",
    "execute = Executor(data_source = 'facedata', featureExtractor=featEx, algorithm=svc, metric = 'acc')"
   ]
  },
  {
   "cell_type": "code",
   "execution_count": null,
   "id": "8b36058e",
   "metadata": {},
   "outputs": [],
   "source": [
    "print(execute.train_mean_met)\n",
    "print(execute.val_mean_met)\n",
    "print(execute.test_mean_met)"
   ]
  },
  {
   "cell_type": "markdown",
   "id": "0e020aee",
   "metadata": {},
   "source": [
    "### Results on Digit Data"
   ]
  },
  {
   "cell_type": "code",
   "execution_count": null,
   "id": "bf833716",
   "metadata": {},
   "outputs": [],
   "source": [
    "featEx = FeatureExtractor(grid_shape = (4,4), round_off = 2)\n",
    "svc = SVC()"
   ]
  },
  {
   "cell_type": "code",
   "execution_count": null,
   "id": "444ec56e",
   "metadata": {},
   "outputs": [],
   "source": [
    "execute = Executor(data_source = 'digitdata', featureExtractor=None, algorithm=svc, metric = 'acc')"
   ]
  },
  {
   "cell_type": "code",
   "execution_count": null,
   "id": "1d7b339f",
   "metadata": {},
   "outputs": [],
   "source": [
    "print(execute.train_mean_met)\n",
    "print(execute.val_mean_met)\n",
    "print(execute.test_mean_met)"
   ]
  },
  {
   "cell_type": "code",
   "execution_count": null,
   "id": "7516bd7a",
   "metadata": {},
   "outputs": [],
   "source": [
    "sort_x = np.sort(execute.X_train,axis=0)\n",
    "unique_feature_counts = (sort_x[1:,:] != sort_x[:-1,:]).sum(axis=0)+1\n",
    "unique_feature_counts"
   ]
  },
  {
   "cell_type": "code",
   "execution_count": null,
   "id": "460f0297",
   "metadata": {},
   "outputs": [],
   "source": [
    "np.unique(execute.X_train[:,34])"
   ]
  },
  {
   "cell_type": "code",
   "execution_count": null,
   "id": "9b5a8951",
   "metadata": {},
   "outputs": [],
   "source": []
  }
 ],
 "metadata": {
  "kernelspec": {
   "display_name": "Python 3 (ipykernel)",
   "language": "python",
   "name": "python3"
  },
  "language_info": {
   "codemirror_mode": {
    "name": "ipython",
    "version": 3
   },
   "file_extension": ".py",
   "mimetype": "text/x-python",
   "name": "python",
   "nbconvert_exporter": "python",
   "pygments_lexer": "ipython3",
   "version": "3.8.10"
  }
 },
 "nbformat": 4,
 "nbformat_minor": 5
}
